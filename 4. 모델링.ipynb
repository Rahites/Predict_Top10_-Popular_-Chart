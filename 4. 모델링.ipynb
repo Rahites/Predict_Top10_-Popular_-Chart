{
 "cells": [
  {
   "cell_type": "code",
   "execution_count": 36,
   "id": "ce1da427",
   "metadata": {},
   "outputs": [],
   "source": [
    "import pandas as pd\n",
    "import numpy as np\n",
    "\n",
    "from sklearn.linear_model import LogisticRegression\n",
    "from sklearn.ensemble import RandomForestClassifier\n",
    "from sklearn.neighbors import KNeighborsClassifier\n",
    "from sklearn.ensemble import ExtraTreesClassifier\n",
    "from lightgbm import LGBMClassifier"
   ]
  },
  {
   "cell_type": "code",
   "execution_count": 37,
   "id": "11fe9bfd",
   "metadata": {},
   "outputs": [],
   "source": [
    "train = pd.read_csv('melon_train_feature.csv').iloc[:,1:]\n",
    "test =  pd.read_csv('melon_test_feature.csv').iloc[:,1:]"
   ]
  },
  {
   "cell_type": "code",
   "execution_count": 38,
   "id": "10cbdfe7",
   "metadata": {},
   "outputs": [],
   "source": [
    "y_train = pd.read_csv('y_train.csv').Top10\n",
    "y_test = pd.read_csv('y_test.csv')"
   ]
  },
  {
   "cell_type": "markdown",
   "id": "23758141",
   "metadata": {},
   "source": [
    "### 빠른 모델링"
   ]
  },
  {
   "cell_type": "code",
   "execution_count": 39,
   "id": "1baba4a9",
   "metadata": {},
   "outputs": [],
   "source": [
    "from sklearn.model_selection import StratifiedKFold\n",
    "skf = StratifiedKFold(n_splits=4, shuffle=True, random_state=2020)"
   ]
  },
  {
   "cell_type": "code",
   "execution_count": 40,
   "id": "34493e2d",
   "metadata": {},
   "outputs": [],
   "source": [
    "from sklearn.model_selection import train_test_split\n",
    "X_train2, X_dev, y_train2, y_dev = train_test_split(train, y_train, test_size=0.3, random_state=2020, shuffle=True, stratify=y_train)"
   ]
  },
  {
   "cell_type": "code",
   "execution_count": 41,
   "id": "370d9a27",
   "metadata": {},
   "outputs": [
    {
     "data": {
      "text/plain": [
       "((621, 70), (267, 70), (621,), (267,))"
      ]
     },
     "execution_count": 41,
     "metadata": {},
     "output_type": "execute_result"
    }
   ],
   "source": [
    "X_train2.shape, X_dev.shape, y_train2.shape, y_dev.shape"
   ]
  },
  {
   "cell_type": "code",
   "execution_count": 42,
   "id": "62f9c867",
   "metadata": {},
   "outputs": [],
   "source": [
    "lgbm = LGBMClassifier(random_state=2020,n_jobs= -1)\n",
    "rf = RandomForestClassifier(random_state = 2020)\n",
    "lr = LogisticRegression(random_state=2020,n_jobs= -1)\n",
    "knn = KNeighborsClassifier(n_jobs= -1)\n",
    "et = ExtraTreesClassifier(random_state=2020,n_jobs= -1)"
   ]
  },
  {
   "cell_type": "code",
   "execution_count": 43,
   "id": "88c6e612",
   "metadata": {},
   "outputs": [
    {
     "data": {
      "text/plain": [
       "ExtraTreesClassifier(n_jobs=-1, random_state=2020)"
      ]
     },
     "execution_count": 43,
     "metadata": {},
     "output_type": "execute_result"
    }
   ],
   "source": [
    "lgbm.fit(X_train2, y_train2)\n",
    "rf.fit(X_train2, y_train2)\n",
    "lr.fit(X_train2, y_train2)\n",
    "knn.fit(X_train2, y_train2)\n",
    "et.fit(X_train2, y_train2)"
   ]
  },
  {
   "cell_type": "code",
   "execution_count": 45,
   "id": "a540ae6f",
   "metadata": {},
   "outputs": [
    {
     "name": "stdout",
     "output_type": "stream",
     "text": [
      "#### 만들어진 피처의 결과는....? ####\n",
      "lgbm :  [0.55523256 0.50857143 0.47904762 0.53670635]\n",
      "평균 :  0.519889488741233\n",
      "rf :  [0.48885659 0.50095238 0.50333333 0.51140873]\n",
      "평균 :  0.5011377583979328\n",
      "lr :  [0.58042636 0.48       0.43238095 0.3452381 ]\n",
      "평균 :  0.45951135105204877\n",
      "knn :  [0.42005814 0.50904762 0.52428571 0.60218254]\n",
      "평균 :  0.5138935031376891\n",
      "et :  [0.50145349 0.43809524 0.48190476 0.59275794]\n",
      "평균 :  0.5035528562200073\n"
     ]
    }
   ],
   "source": [
    "from sklearn.model_selection import cross_val_score\n",
    "print('#### 만들어진 피처의 결과는....? ####')\n",
    "cv_score1 = cross_val_score(lgbm, X_dev, y_dev, cv=skf, scoring = 'roc_auc')\n",
    "print('lgbm : ',cv_score1)\n",
    "print('평균 : ',np.mean(cv_score1))\n",
    "cv_score2 = cross_val_score(rf, X_dev, y_dev, cv=skf, scoring = 'roc_auc')\n",
    "print('rf : ',cv_score2)\n",
    "print('평균 : ',np.mean(cv_score2))\n",
    "cv_score3 = cross_val_score(lr, X_dev, y_dev, cv=skf, scoring = 'roc_auc')\n",
    "print('lr : ',cv_score3)\n",
    "print('평균 : ',np.mean(cv_score3))\n",
    "cv_score4 = cross_val_score(knn, X_dev, y_dev, cv=skf, scoring = 'roc_auc')\n",
    "print('knn : ',cv_score4)\n",
    "print('평균 : ',np.mean(cv_score4))\n",
    "cv_score5 = cross_val_score(et, X_dev, y_dev, cv=skf, scoring = 'roc_auc')\n",
    "print('et : ',cv_score5)\n",
    "print('평균 : ',np.mean(cv_score5))"
   ]
  },
  {
   "cell_type": "markdown",
   "id": "2796067f",
   "metadata": {},
   "source": [
    "## Hyperparameter Tuning"
   ]
  },
  {
   "cell_type": "markdown",
   "id": "640dbedc",
   "metadata": {},
   "source": [
    "### LGBM"
   ]
  },
  {
   "cell_type": "code",
   "execution_count": 46,
   "id": "43c4de09",
   "metadata": {},
   "outputs": [],
   "source": [
    "from bayes_opt import BayesianOptimization\n",
    "\n",
    "pbounds = {'learning_rate' : (0.01,0.1),\n",
    "           'n_estimators' : (5,50),\n",
    "           'max_depth' : (2,20), # 과적합된 것 같다 _ max_depth 값을 줄이기\n",
    "           'subsample' : (0.7,1),\n",
    "           'colsample_bytree' : (0.8,1.0),\n",
    "           'min_child_samples' : (3, 10),  # 보통 큰 값으로 설정하면 트리가 깊어지는 것을 방지\n",
    "           'num_leaves': (2,10)\n",
    "            # num_leaves의 개수를 높이면 정확도가 높아지지만, 반대로 트리의 깊이가 깊어지고 모델이 복잡도가 커져 과적합 영향도가 커집니다\n",
    "           }\n",
    "\n",
    "def lgb_opt(learning_rate, n_estimators, max_depth, subsample, colsample_bytree, min_child_samples, num_leaves):\n",
    "    \n",
    "    params = {\n",
    "        'learning_rate' : learning_rate,\n",
    "        'n_estimators' : int(round(n_estimators)),\n",
    "        'max_depth': int(round(max_depth)),\n",
    "        'subsample' : subsample,\n",
    "        'colsample_bytree' : colsample_bytree,\n",
    "        'min_child_samples' : int(round(min_child_samples)),\n",
    "        'num_leaves' : int(round(num_leaves)),\n",
    "        'objective' : 'binary',\n",
    "        'random_state' : 42,\n",
    "        'n_jobs' : -1\n",
    "    }\n",
    "\n",
    "    lgb_reg = LGBMClassifier(**params)\n",
    "    \n",
    "    scores = cross_val_score(lgb_reg, X_train2, y_train2, scoring = 'roc_auc', cv=skf, n_jobs=-1)\n",
    "    mean_score = np.mean(scores)\n",
    "    \n",
    "    return mean_score\n",
    "\n",
    "\n",
    "BO_lgb = BayesianOptimization(f = lgb_opt, pbounds = pbounds, random_state=42)"
   ]
  },
  {
   "cell_type": "code",
   "execution_count": 47,
   "id": "a626d7b4",
   "metadata": {},
   "outputs": [
    {
     "name": "stdout",
     "output_type": "stream",
     "text": [
      "|   iter    |  target   | colsam... | learni... | max_depth | min_ch... | n_esti... | num_le... | subsample |\n",
      "-------------------------------------------------------------------------------------------------------------\n",
      "| \u001b[0m 1       \u001b[0m | \u001b[0m 0.5201  \u001b[0m | \u001b[0m 0.8749  \u001b[0m | \u001b[0m 0.09556 \u001b[0m | \u001b[0m 15.18   \u001b[0m | \u001b[0m 7.191   \u001b[0m | \u001b[0m 12.02   \u001b[0m | \u001b[0m 3.248   \u001b[0m | \u001b[0m 0.7174  \u001b[0m |\n",
      "| \u001b[95m 2       \u001b[0m | \u001b[95m 0.5463  \u001b[0m | \u001b[95m 0.9732  \u001b[0m | \u001b[95m 0.0641  \u001b[0m | \u001b[95m 14.75   \u001b[0m | \u001b[95m 3.144   \u001b[0m | \u001b[95m 48.65   \u001b[0m | \u001b[95m 8.66    \u001b[0m | \u001b[95m 0.7637  \u001b[0m |\n",
      "| \u001b[0m 3       \u001b[0m | \u001b[0m 0.5261  \u001b[0m | \u001b[0m 0.8364  \u001b[0m | \u001b[0m 0.02651 \u001b[0m | \u001b[0m 7.476   \u001b[0m | \u001b[0m 6.673   \u001b[0m | \u001b[0m 24.44   \u001b[0m | \u001b[0m 4.33    \u001b[0m | \u001b[0m 0.8836  \u001b[0m |\n",
      "| \u001b[0m 4       \u001b[0m | \u001b[0m 0.5254  \u001b[0m | \u001b[0m 0.8279  \u001b[0m | \u001b[0m 0.03629 \u001b[0m | \u001b[0m 8.595   \u001b[0m | \u001b[0m 6.192   \u001b[0m | \u001b[0m 40.33   \u001b[0m | \u001b[0m 3.597   \u001b[0m | \u001b[0m 0.8543  \u001b[0m |\n",
      "| \u001b[0m 5       \u001b[0m | \u001b[0m 0.5284  \u001b[0m | \u001b[0m 0.9185  \u001b[0m | \u001b[0m 0.01418 \u001b[0m | \u001b[0m 12.94   \u001b[0m | \u001b[0m 4.194   \u001b[0m | \u001b[0m 7.927   \u001b[0m | \u001b[0m 9.591   \u001b[0m | \u001b[0m 0.9897  \u001b[0m |\n",
      "| \u001b[0m 6       \u001b[0m | \u001b[0m 0.5239  \u001b[0m | \u001b[0m 0.9617  \u001b[0m | \u001b[0m 0.03742 \u001b[0m | \u001b[0m 3.758   \u001b[0m | \u001b[0m 7.79    \u001b[0m | \u001b[0m 24.81   \u001b[0m | \u001b[0m 2.976   \u001b[0m | \u001b[0m 0.8486  \u001b[0m |\n",
      "| \u001b[0m 7       \u001b[0m | \u001b[0m 0.5307  \u001b[0m | \u001b[0m 0.8069  \u001b[0m | \u001b[0m 0.09184 \u001b[0m | \u001b[0m 6.658   \u001b[0m | \u001b[0m 7.638   \u001b[0m | \u001b[0m 19.03   \u001b[0m | \u001b[0m 6.161   \u001b[0m | \u001b[0m 0.864   \u001b[0m |\n",
      "| \u001b[0m 8       \u001b[0m | \u001b[0m 0.5461  \u001b[0m | \u001b[0m 0.837   \u001b[0m | \u001b[0m 0.09726 \u001b[0m | \u001b[0m 15.95   \u001b[0m | \u001b[0m 9.576   \u001b[0m | \u001b[0m 45.27   \u001b[0m | \u001b[0m 6.783   \u001b[0m | \u001b[0m 0.9766  \u001b[0m |\n",
      "| \u001b[0m 9       \u001b[0m | \u001b[0m 0.516   \u001b[0m | \u001b[0m 0.8177  \u001b[0m | \u001b[0m 0.02764 \u001b[0m | \u001b[0m 2.814   \u001b[0m | \u001b[0m 5.277   \u001b[0m | \u001b[0m 22.49   \u001b[0m | \u001b[0m 4.171   \u001b[0m | \u001b[0m 0.9486  \u001b[0m |\n",
      "| \u001b[0m 10      \u001b[0m | \u001b[0m 0.5255  \u001b[0m | \u001b[0m 0.8714  \u001b[0m | \u001b[0m 0.03528 \u001b[0m | \u001b[0m 11.77   \u001b[0m | \u001b[0m 3.986   \u001b[0m | \u001b[0m 41.1    \u001b[0m | \u001b[0m 2.596   \u001b[0m | \u001b[0m 0.9961  \u001b[0m |\n",
      "| \u001b[95m 11      \u001b[0m | \u001b[95m 0.5615  \u001b[0m | \u001b[95m 0.9374  \u001b[0m | \u001b[95m 0.1     \u001b[0m | \u001b[95m 17.57   \u001b[0m | \u001b[95m 7.989   \u001b[0m | \u001b[95m 49.56   \u001b[0m | \u001b[95m 9.915   \u001b[0m | \u001b[95m 0.8698  \u001b[0m |\n",
      "| \u001b[0m 12      \u001b[0m | \u001b[0m 0.5582  \u001b[0m | \u001b[0m 1.0     \u001b[0m | \u001b[0m 0.1     \u001b[0m | \u001b[0m 20.0    \u001b[0m | \u001b[0m 10.0    \u001b[0m | \u001b[0m 50.0    \u001b[0m | \u001b[0m 6.471   \u001b[0m | \u001b[0m 0.7     \u001b[0m |\n",
      "| \u001b[0m 13      \u001b[0m | \u001b[0m 0.5201  \u001b[0m | \u001b[0m 0.8     \u001b[0m | \u001b[0m 0.01    \u001b[0m | \u001b[0m 20.0    \u001b[0m | \u001b[0m 4.705   \u001b[0m | \u001b[0m 50.0    \u001b[0m | \u001b[0m 10.0    \u001b[0m | \u001b[0m 1.0     \u001b[0m |\n",
      "| \u001b[95m 14      \u001b[0m | \u001b[95m 0.5659  \u001b[0m | \u001b[95m 1.0     \u001b[0m | \u001b[95m 0.1     \u001b[0m | \u001b[95m 16.46   \u001b[0m | \u001b[95m 10.0    \u001b[0m | \u001b[95m 50.0    \u001b[0m | \u001b[95m 8.04    \u001b[0m | \u001b[95m 0.7     \u001b[0m |\n",
      "| \u001b[95m 15      \u001b[0m | \u001b[95m 0.566   \u001b[0m | \u001b[95m 1.0     \u001b[0m | \u001b[95m 0.1     \u001b[0m | \u001b[95m 13.19   \u001b[0m | \u001b[95m 8.634   \u001b[0m | \u001b[95m 50.0    \u001b[0m | \u001b[95m 10.0    \u001b[0m | \u001b[95m 0.7027  \u001b[0m |\n",
      "| \u001b[0m 16      \u001b[0m | \u001b[0m 0.5452  \u001b[0m | \u001b[0m 0.8827  \u001b[0m | \u001b[0m 0.07932 \u001b[0m | \u001b[0m 8.198   \u001b[0m | \u001b[0m 7.224   \u001b[0m | \u001b[0m 49.97   \u001b[0m | \u001b[0m 9.807   \u001b[0m | \u001b[0m 0.7641  \u001b[0m |\n",
      "| \u001b[0m 17      \u001b[0m | \u001b[0m 0.5362  \u001b[0m | \u001b[0m 1.0     \u001b[0m | \u001b[0m 0.1     \u001b[0m | \u001b[0m 15.71   \u001b[0m | \u001b[0m 10.0    \u001b[0m | \u001b[0m 50.0    \u001b[0m | \u001b[0m 2.0     \u001b[0m | \u001b[0m 0.7     \u001b[0m |\n",
      "| \u001b[0m 18      \u001b[0m | \u001b[0m 0.5507  \u001b[0m | \u001b[0m 0.877   \u001b[0m | \u001b[0m 0.06332 \u001b[0m | \u001b[0m 14.2    \u001b[0m | \u001b[0m 9.674   \u001b[0m | \u001b[0m 47.17   \u001b[0m | \u001b[0m 9.987   \u001b[0m | \u001b[0m 0.9014  \u001b[0m |\n",
      "| \u001b[0m 19      \u001b[0m | \u001b[0m 0.5387  \u001b[0m | \u001b[0m 0.8593  \u001b[0m | \u001b[0m 0.07556 \u001b[0m | \u001b[0m 15.15   \u001b[0m | \u001b[0m 7.322   \u001b[0m | \u001b[0m 49.91   \u001b[0m | \u001b[0m 8.149   \u001b[0m | \u001b[0m 0.9544  \u001b[0m |\n",
      "| \u001b[0m 20      \u001b[0m | \u001b[0m 0.5418  \u001b[0m | \u001b[0m 0.9955  \u001b[0m | \u001b[0m 0.06752 \u001b[0m | \u001b[0m 17.95   \u001b[0m | \u001b[0m 9.606   \u001b[0m | \u001b[0m 48.77   \u001b[0m | \u001b[0m 8.574   \u001b[0m | \u001b[0m 0.7168  \u001b[0m |\n",
      "=============================================================================================================\n"
     ]
    }
   ],
   "source": [
    "BO_lgb.maximize(init_points=10, n_iter=10)"
   ]
  },
  {
   "cell_type": "code",
   "execution_count": 48,
   "id": "718ee838",
   "metadata": {},
   "outputs": [
    {
     "data": {
      "text/plain": [
       "{'colsample_bytree': 1.0,\n",
       " 'learning_rate': 0.1,\n",
       " 'max_depth': 13,\n",
       " 'min_child_samples': 9,\n",
       " 'n_estimators': 50,\n",
       " 'num_leaves': 10,\n",
       " 'subsample': 0.7027316113530102}"
      ]
     },
     "execution_count": 48,
     "metadata": {},
     "output_type": "execute_result"
    }
   ],
   "source": [
    "max_lgbm = BO_lgb.max['params']\n",
    "max_lgbm['n_estimators'] = int(round(max_lgbm['n_estimators']))\n",
    "max_lgbm['num_leaves'] = int(round(max_lgbm['num_leaves']))\n",
    "max_lgbm['max_depth'] = int(round(max_lgbm['max_depth']))\n",
    "max_lgbm['min_child_samples'] = int(round(max_lgbm['min_child_samples']))\n",
    "\n",
    "max_lgbm"
   ]
  },
  {
   "cell_type": "code",
   "execution_count": 49,
   "id": "ba7ba79d",
   "metadata": {},
   "outputs": [
    {
     "data": {
      "text/plain": [
       "array([0.54554264, 0.51142857, 0.47619048, 0.50198413])"
      ]
     },
     "execution_count": 49,
     "metadata": {},
     "output_type": "execute_result"
    }
   ],
   "source": [
    "lgb_tune = LGBMClassifier(**max_lgbm)\n",
    "lgb_tune.fit(X_train2, y_train2)\n",
    "cross_val_score(lgb_tune, X_dev, y_dev, cv=skf, scoring = 'roc_auc')"
   ]
  },
  {
   "cell_type": "markdown",
   "id": "8b23e8d4",
   "metadata": {},
   "source": [
    "### ExtraTree, RandomForest"
   ]
  },
  {
   "cell_type": "code",
   "execution_count": 50,
   "id": "0c8a7dc6",
   "metadata": {},
   "outputs": [
    {
     "name": "stderr",
     "output_type": "stream",
     "text": [
      "  0%|                                                                                            | 0/2 [00:00<?, ?it/s]C:\\ProgramData\\Anaconda3\\lib\\site-packages\\sklearn\\model_selection\\_search.py:922: UserWarning: One or more of the test scores are non-finite: [0.50749256        nan 0.49018328 0.48811453 0.50570854]\n",
      "  warnings.warn(\n",
      " 50%|██████████████████████████████████████████                                          | 1/2 [00:00<00:00,  7.46it/s]"
     ]
    },
    {
     "name": "stdout",
     "output_type": "stream",
     "text": [
      "ExtraTreesClassifier                                 0.468331 0.1\n",
      "ExtraTreesClassifier(criterion='entropy', max_depth=20, min_samples_split=4,\n",
      "                     n_estimators=30, random_state=2020)\n"
     ]
    },
    {
     "name": "stderr",
     "output_type": "stream",
     "text": [
      "100%|████████████████████████████████████████████████████████████████████████████████████| 2/2 [00:00<00:00,  3.60it/s]"
     ]
    },
    {
     "name": "stdout",
     "output_type": "stream",
     "text": [
      "RandomForestClassifier                               0.470565 0.4\n",
      "RandomForestClassifier(max_depth=7, random_state=2020)\n"
     ]
    },
    {
     "name": "stderr",
     "output_type": "stream",
     "text": [
      "\n"
     ]
    }
   ],
   "source": [
    "from sklearn.model_selection import RandomizedSearchCV\n",
    "import time\n",
    "from tqdm import tqdm\n",
    "\n",
    "clfs = [\n",
    "           (\n",
    "                ExtraTreesClassifier(random_state=2020),\n",
    "                {'n_estimators': [3, 5, 7, 10, 15, 20, 30, 40, 50, 100, 200],\n",
    "                 'criterion' : [\"gini\",\"entropy\"],\n",
    "                 'min_samples_split' : [1, 2, 3, 4, 5],\n",
    "                 'max_depth' : [3, 5, 8, 10, 12, 15, 20, 30, 40]}\n",
    "                # 'max_features': (np.arange(0.5, 1.0, 0.1)*X_train.shape[1]).astype(int)}\n",
    "            ),\n",
    "            (\n",
    "            RandomForestClassifier(random_state=2020),\n",
    "            {'n_estimators': [3, 5, 7, 10, 15, 20, 30, 40, 50, 100, 200],\n",
    "             'max_depth': [3,5,7, 9, 10, 12, 15, 20],}\n",
    "             # 'max_features': (np.arange(0.5, 1.0, 0.1)*X_train.shape[1]).astype(int)}\n",
    "             )\n",
    "        ]\n",
    "\n",
    "clfs_tuned = []  # 튜닝된 모델을 저장\n",
    "for clf, param_grid in tqdm(clfs):\n",
    "    start = time.time()\n",
    "    rand_search = RandomizedSearchCV(clf, param_grid, n_iter=5, scoring='roc_auc', \n",
    "                                     cv=skf, random_state=2020, n_jobs=-1)\n",
    "    rand_search.fit(X_train2, y_train2)\n",
    "    clf_name = type(clf).__name__\n",
    "    clf_score = rand_search.score(X_dev, y_dev)\n",
    "    print('{:30s} {:30f} {:.1f}'.format(clf_name, clf_score, time.time() - start))\n",
    "    print(rand_search.best_estimator_)\n",
    "    clfs_tuned.append((clf_name, rand_search, clf_score))"
   ]
  },
  {
   "cell_type": "code",
   "execution_count": 51,
   "id": "94621f7a",
   "metadata": {},
   "outputs": [
    {
     "data": {
      "text/plain": [
       "ExtraTreesClassifier(criterion='entropy', max_depth=20, min_samples_split=4,\n",
       "                     n_estimators=30, random_state=2020)"
      ]
     },
     "execution_count": 51,
     "metadata": {},
     "output_type": "execute_result"
    }
   ],
   "source": [
    "model_et = ExtraTreesClassifier(criterion='entropy', max_depth=20, min_samples_split=4,n_estimators=30, random_state=2020)\n",
    "model_et.fit(X_train2, y_train2)"
   ]
  },
  {
   "cell_type": "code",
   "execution_count": 52,
   "id": "bb5e2605",
   "metadata": {},
   "outputs": [
    {
     "data": {
      "text/plain": [
       "array([0.47141473, 0.46571429, 0.52761905, 0.60168651])"
      ]
     },
     "execution_count": 52,
     "metadata": {},
     "output_type": "execute_result"
    }
   ],
   "source": [
    "cross_val_score(model_et, X_dev, y_dev, cv=skf, scoring = 'roc_auc')"
   ]
  },
  {
   "cell_type": "code",
   "execution_count": 53,
   "id": "c4cccfef",
   "metadata": {},
   "outputs": [
    {
     "data": {
      "text/plain": [
       "RandomForestClassifier(max_depth=7, random_state=2020)"
      ]
     },
     "execution_count": 53,
     "metadata": {},
     "output_type": "execute_result"
    }
   ],
   "source": [
    "model_rf = RandomForestClassifier(max_depth=7, random_state=2020)\n",
    "model_rf.fit(X_train2, y_train2)"
   ]
  },
  {
   "cell_type": "code",
   "execution_count": 54,
   "id": "64d2d44f",
   "metadata": {},
   "outputs": [
    {
     "data": {
      "text/plain": [
       "array([0.50193798, 0.44952381, 0.48857143, 0.52678571])"
      ]
     },
     "execution_count": 54,
     "metadata": {},
     "output_type": "execute_result"
    }
   ],
   "source": [
    "cross_val_score(model_rf, X_dev, y_dev, cv=skf, scoring = 'roc_auc')"
   ]
  },
  {
   "cell_type": "markdown",
   "id": "3a3d055e",
   "metadata": {},
   "source": [
    "## 결과 test"
   ]
  },
  {
   "cell_type": "code",
   "execution_count": 59,
   "id": "f4aae5ac",
   "metadata": {},
   "outputs": [],
   "source": [
    "from sklearn.metrics import roc_auc_score"
   ]
  },
  {
   "cell_type": "code",
   "execution_count": 105,
   "id": "beba1db2",
   "metadata": {},
   "outputs": [
    {
     "data": {
      "text/plain": [
       "0.5"
      ]
     },
     "execution_count": 105,
     "metadata": {},
     "output_type": "execute_result"
    }
   ],
   "source": [
    "# 전부 0으로 예측\n",
    "roc_auc_score(y_test,np.zeros(test.shape[0]))"
   ]
  },
  {
   "cell_type": "code",
   "execution_count": 79,
   "id": "c3a906be",
   "metadata": {},
   "outputs": [],
   "source": [
    "y_test = pd.read_csv('y_test.csv').astype('float')"
   ]
  },
  {
   "cell_type": "code",
   "execution_count": 88,
   "id": "cb018093",
   "metadata": {},
   "outputs": [],
   "source": [
    "# lgbm\n",
    "pred_lgbm = pd.DataFrame(lgb_tune.predict_proba(test)[:,1])\n",
    "pred_lgbm.columns = ['Top10']"
   ]
  },
  {
   "cell_type": "code",
   "execution_count": 91,
   "id": "b6bc9f47",
   "metadata": {
    "scrolled": true
   },
   "outputs": [
    {
     "data": {
      "text/plain": [
       "0.5956937799043063"
      ]
     },
     "execution_count": 91,
     "metadata": {},
     "output_type": "execute_result"
    }
   ],
   "source": [
    "roc_auc_score(y_test,pred_lgbm)"
   ]
  },
  {
   "cell_type": "code",
   "execution_count": 94,
   "id": "e0f6affd",
   "metadata": {},
   "outputs": [],
   "source": [
    "pred_et = pd.DataFrame(model_et.predict_proba(test)[:,1])\n",
    "pred_et.columns = ['Top10']"
   ]
  },
  {
   "cell_type": "code",
   "execution_count": 95,
   "id": "0ee6c07c",
   "metadata": {},
   "outputs": [
    {
     "data": {
      "text/plain": [
       "0.5526315789473684"
      ]
     },
     "execution_count": 95,
     "metadata": {},
     "output_type": "execute_result"
    }
   ],
   "source": [
    "roc_auc_score(y_test,pred_et)"
   ]
  },
  {
   "cell_type": "code",
   "execution_count": 96,
   "id": "7188ca1a",
   "metadata": {},
   "outputs": [],
   "source": [
    "pred_rf = pd.DataFrame(model_rf.predict_proba(test)[:,1])\n",
    "pred_rf.columns = ['Top10']"
   ]
  },
  {
   "cell_type": "code",
   "execution_count": 97,
   "id": "ce733099",
   "metadata": {},
   "outputs": [
    {
     "data": {
      "text/plain": [
       "0.49222488038277507"
      ]
     },
     "execution_count": 97,
     "metadata": {},
     "output_type": "execute_result"
    }
   ],
   "source": [
    "roc_auc_score(y_test,pred_rf)"
   ]
  }
 ],
 "metadata": {
  "kernelspec": {
   "display_name": "Python 3",
   "language": "python",
   "name": "python3"
  },
  "language_info": {
   "codemirror_mode": {
    "name": "ipython",
    "version": 3
   },
   "file_extension": ".py",
   "mimetype": "text/x-python",
   "name": "python",
   "nbconvert_exporter": "python",
   "pygments_lexer": "ipython3",
   "version": "3.7.13"
  }
 },
 "nbformat": 4,
 "nbformat_minor": 5
}
